{
  "nbformat": 4,
  "nbformat_minor": 0,
  "metadata": {
    "colab": {
      "provenance": [],
      "authorship_tag": "ABX9TyMFhDLdctXbBDGZOgbueJXP",
      "include_colab_link": true
    },
    "kernelspec": {
      "name": "python3",
      "display_name": "Python 3"
    },
    "language_info": {
      "name": "python"
    }
  },
  "cells": [
    {
      "cell_type": "markdown",
      "metadata": {
        "id": "view-in-github",
        "colab_type": "text"
      },
      "source": [
        "<a href=\"https://colab.research.google.com/github/gmoulantz2/Translate-PDF-files-with-Hugginface-and-PyPDF2/blob/main/Translation_with_Hugginface_transformers.ipynb\" target=\"_parent\"><img src=\"https://colab.research.google.com/assets/colab-badge.svg\" alt=\"Open In Colab\"/></a>"
      ]
    },
    {
      "cell_type": "code",
      "execution_count": null,
      "metadata": {
        "id": "q16WWqr-WEBS"
      },
      "outputs": [],
      "source": [
        "pip install transformers sentencepiece sacremoses "
      ]
    },
    {
      "cell_type": "code",
      "source": [
        "from transformers import pipeline"
      ],
      "metadata": {
        "id": "qPlKk79WWat-"
      },
      "execution_count": 1,
      "outputs": []
    },
    {
      "cell_type": "code",
      "source": [
        "\n",
        "from transformers.models.mgp_str.processing_mgp_str import AutoTokenizer\n",
        "from transformers.models.auto.modeling_auto import AutoModelForSeq2SeqLM\n"
      ],
      "metadata": {
        "id": "mBy0Nrccs_AK"
      },
      "execution_count": null,
      "outputs": []
    },
    {
      "cell_type": "markdown",
      "source": [
        "1) Translator Class, available languages: English, French, German."
      ],
      "metadata": {
        "id": "WoTa7HLy65Ec"
      }
    },
    {
      "cell_type": "code",
      "source": [
        "class Translator:\n",
        "\n",
        "  def __init__(self):\n",
        "\n",
        "    self.model = AutoModelForSeq2SeqLM.from_pretrained('Helsinki-NLP/opus-mt-en-fr')\n",
        "    self.tokenizer = AutoTokenizer.from_pretrained('Helsinki-NLP/opus-mt-en-fr')\n",
        "    self.languages = ['en', 'fr', 'de']\n",
        "\n",
        "  def translate(self, text, src_lang, tgt_lang):\n",
        "\n",
        "    if src_lang not in self.languages:\n",
        "      raise RuntimeError('Source language not supported.')\n",
        "    if tgt_lang not in self.languages:\n",
        "      raise RuntimeError('Target language not supported')\n",
        "\n",
        "    model_name = 'Helsinki-NLP/opus-mt-' + src_lang + '-' + tgt_lang\n",
        "    self.model = AutoModelForSeq2SeqLM.from_pretrained(model_name)\n",
        "    self.tokenizer = AutoTokenizer.from_pretrained(model_name)\n",
        "\n",
        "    inputs = self.tokenizer.encode(text, return_tensors = 'pt')\n",
        "    tokens = self.model.generate(inputs, max_length = 512)\n",
        "    decoded = self.tokenizer.decode(tokens[0], skip_special_tokens = True)\n",
        "\n",
        "    return decoded\n",
        "\n",
        "    \n",
        "    \n"
      ],
      "metadata": {
        "id": "pPhg67yWv6gc"
      },
      "execution_count": 23,
      "outputs": []
    },
    {
      "cell_type": "code",
      "source": [
        "translator_object = Translator()"
      ],
      "metadata": {
        "id": "LYD_YdLKxpMf"
      },
      "execution_count": 24,
      "outputs": []
    },
    {
      "cell_type": "markdown",
      "source": [
        "Example: Translating 'bonjour' in English."
      ],
      "metadata": {
        "id": "MPfW97MQ7NQx"
      }
    },
    {
      "cell_type": "code",
      "source": [
        "translator_object.translate('bonjour', 'fr', 'en')"
      ],
      "metadata": {
        "colab": {
          "base_uri": "https://localhost:8080/",
          "height": 35
        },
        "id": "dv3qbTnyxu28",
        "outputId": "2c02c14c-20aa-4035-a6f5-90a76c88378a"
      },
      "execution_count": 47,
      "outputs": [
        {
          "output_type": "execute_result",
          "data": {
            "text/plain": [
              "'Hello.'"
            ],
            "application/vnd.google.colaboratory.intrinsic+json": {
              "type": "string"
            }
          },
          "metadata": {},
          "execution_count": 47
        }
      ]
    },
    {
      "cell_type": "markdown",
      "source": [
        "2) Function that converts a pdf file to text format. The output will be used for translation."
      ],
      "metadata": {
        "id": "Cw0RBv2C7WLD"
      }
    },
    {
      "cell_type": "code",
      "source": [
        "pip install PyPDF2"
      ],
      "metadata": {
        "id": "Kz0f6LYc0plp"
      },
      "execution_count": null,
      "outputs": []
    },
    {
      "cell_type": "code",
      "source": [
        "import PyPDF2\n",
        "\n",
        "def convert_pdf_to_txt(input_path, output_path):\n",
        "    \n",
        "    with open(input_path, 'rb') as pdf_file:\n",
        "        pdf_reader = PyPDF2.PdfReader(pdf_file)\n",
        "        with open(output_path, 'w') as txt_file:\n",
        "            for page in range(len(pdf_reader.pages)):\n",
        "                page_obj = pdf_reader.pages[page]\n",
        "                text = page_obj.extract_text()\n",
        "                lines = text.split('\\n')\n",
        "                for line in lines:\n",
        "                    txt_file.write(line + '\\n')"
      ],
      "metadata": {
        "id": "sXAXeW9M0mUA"
      },
      "execution_count": 28,
      "outputs": []
    },
    {
      "cell_type": "markdown",
      "source": [
        "Example: Converting the pdf file 'poem.pdf' to text format."
      ],
      "metadata": {
        "id": "2BbKWyjj7pvn"
      }
    },
    {
      "cell_type": "code",
      "source": [
        "convert_pdf_to_txt('poem.pdf', 'poem.txt')"
      ],
      "metadata": {
        "id": "WbJ_pg6w1oa9"
      },
      "execution_count": 30,
      "outputs": []
    },
    {
      "cell_type": "markdown",
      "source": [
        "3) Function that takes a text file and creates a new file containing the translation of the text from a specified source language to a specified target language."
      ],
      "metadata": {
        "id": "EBPzwRQk7wrJ"
      }
    },
    {
      "cell_type": "code",
      "source": [
        "def translated_file(input_file_path, src, tgt):\n",
        "    \n",
        "    with open(input_file_path, 'r') as f:\n",
        "        text = f.readlines()\n",
        "        \n",
        "    translated_list = []\n",
        "\n",
        "    for i in range(len(text)):\n",
        "        translated_list.append(translator_object.translate(text[i], src, tgt))\n",
        "    \n",
        "    output_file_path = input_file_path.replace('.txt', '_translated.txt')    \n",
        "    with open(output_file_path, 'w') as f:\n",
        "        for i in range(len(text)):\n",
        "            f.write(translated_list[i]+'\\n') "
      ],
      "metadata": {
        "id": "Dv4AH80f2afK"
      },
      "execution_count": 44,
      "outputs": []
    },
    {
      "cell_type": "code",
      "source": [
        "translated_file('poem.txt', 'fr', 'de')"
      ],
      "metadata": {
        "id": "jd1mAQ-H4Lg2"
      },
      "execution_count": 46,
      "outputs": []
    }
  ]
}